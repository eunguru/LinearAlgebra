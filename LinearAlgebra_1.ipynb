{
  "nbformat": 4,
  "nbformat_minor": 0,
  "metadata": {
    "colab": {
      "name": "LinearAlgebra_1.ipynb",
      "provenance": [],
      "collapsed_sections": [],
      "authorship_tag": "ABX9TyOoZq3rZypIpcxzZaFQt5T7",
      "include_colab_link": true
    },
    "kernelspec": {
      "name": "python3",
      "display_name": "Python 3"
    }
  },
  "cells": [
    {
      "cell_type": "markdown",
      "metadata": {
        "id": "view-in-github",
        "colab_type": "text"
      },
      "source": [
        "<a href=\"https://colab.research.google.com/github/eunguru/LinearAlgebra/blob/master/LinearAlgebra_1.ipynb\" target=\"_parent\"><img src=\"https://colab.research.google.com/assets/colab-badge.svg\" alt=\"Open In Colab\"/></a>"
      ]
    },
    {
      "cell_type": "markdown",
      "metadata": {
        "id": "y1TzuyeXQeOW",
        "colab_type": "text"
      },
      "source": [
        "## 선형수학 1주차 - 벡터, 행렬, 텐서, 행렬곱, 역행렬"
      ]
    },
    {
      "cell_type": "markdown",
      "metadata": {
        "id": "DNOFpLKQQy22",
        "colab_type": "text"
      },
      "source": [
        "### 0. 기본 라이브러리, 함수 import"
      ]
    },
    {
      "cell_type": "code",
      "metadata": {
        "id": "bal2U_bhQ8PC",
        "colab_type": "code",
        "outputId": "01fea204-30a5-49b9-86a5-843b3f1a96b6",
        "colab": {
          "base_uri": "https://localhost:8080/",
          "height": 34
        }
      },
      "source": [
        "%tensorflow_version 2.x"
      ],
      "execution_count": 0,
      "outputs": [
        {
          "output_type": "stream",
          "text": [
            "TensorFlow 2.x selected.\n"
          ],
          "name": "stdout"
        }
      ]
    },
    {
      "cell_type": "code",
      "metadata": {
        "id": "Ow6t2_QmRA9O",
        "colab_type": "code",
        "colab": {}
      },
      "source": [
        "import matplotlib.pyplot as plt\n",
        "from matplotlib.patches import Polygon\n",
        "import numpy as np\n",
        "import tensorflow as tf\n",
        "\n",
        "\n",
        "def vector_plot(vecs, xlim, ylim, cols=[\"#1190FF\", \"#FF9A13\"], alpha=1):\n",
        "  plt.rc_context({'axes.edgecolor':'orange', 'xtick.color':'red', 'ytick.color':'red'})\n",
        "  plt.axvline(x=0, color='k', zorder=0)\n",
        "  plt.axhline(y=0, color='k', zorder=0)\n",
        "  \n",
        "  for i in range(len(vecs)):\n",
        "    if (isinstance(alpha, list)):\n",
        "      alpha_i = alpha[i]\n",
        "    else:\n",
        "      alpha_i = alpha\n",
        "    x = np.concatenate([[0,0],vecs[i]])\n",
        "    plt.quiver([x[0]],\n",
        "               [x[1]],\n",
        "               [x[2]],\n",
        "               [x[3]],\n",
        "               angles='xy', scale_units='xy', scale=1, color=cols[i],\n",
        "               alpha=alpha_i)\n",
        "    plt.ylim(-xlim, xlim)\n",
        "    plt.xlim(-ylim, ylim)\n",
        "    plt.grid()\n",
        "\n",
        "def plot_vector2d(vector2d, origin=[0, 0], **options):\n",
        "  return plt.arrow(origin[0], origin[1], vector2d[0], vector2d[1],\n",
        "                   head_width=0.2, head_length=0.3, length_includes_head=True,\n",
        "                   **options)\n",
        "\n",
        "def plot_transform(P_before, P_after, text_before, text_after, name, color=['#FF9A13', '#1190FF'], axis = [0, 5, 0, 4], arrows=False):\n",
        "  if arrows:\n",
        "    for vector_before, vector_after in zip(tf.transpose(P_before), tf.transpose(P_after)):\n",
        "      plot_vector2d(vector_before, color=\"#FF9A13\", linestyle=\"--\")\n",
        "      plot_vector2d(vector_after, color=\"#1190FF\", linestyle=\"-\")\n",
        "      \n",
        "    plt.rc_context({'axes.edgecolor':'orange', 'xtick.color':'red', 'ytick.color':'red'})\n",
        "    plt.gca().add_artist(Polygon(tf.transpose(P_before), alpha=0.2))\n",
        "    plt.gca().add_artist(Polygon(tf.transpose(P_after), alpha=0.3, color=\"#FF9A13\"))\n",
        "    plt.text(-.25, 1, text_before, size=18, color=color[1])\n",
        "    plt.text(1.5, 0, text_after, size=18, color=color[0])\n",
        "    plt.title(name, color='w')\n",
        "    plt.axis(axis)\n",
        "    plt.grid()\n",
        "\n",
        "def evaluate(tensors):\n",
        "    \"\"\"Evaluates Tensor or EagerTensor to Numpy `ndarray`s.\n",
        "    Args:\n",
        "    tensors: Object of `Tensor` or EagerTensor`s; can be `list`, `tuple`,\n",
        "      `namedtuple` or combinations thereof.\n",
        "\n",
        "    Returns:\n",
        "      ndarrays: Object with same structure as `tensors` except with `Tensor` or\n",
        "        `EagerTensor`s replaced by Numpy `ndarray`s.\n",
        "    \"\"\"\n",
        "    return tf.nest.pack_sequence_as(tensors,[t.numpy() if tf.is_tensor(t) else t for t in tf.nest.flatten(tensors)])"
      ],
      "execution_count": 0,
      "outputs": []
    },
    {
      "cell_type": "markdown",
      "metadata": {
        "id": "sfApd5HCfl-A",
        "colab_type": "text"
      },
      "source": [
        "선형대수는 선형방정식과 선형함수 및 행렬과 벡터 공간을 통한 표현에 관한 수학의 학문분야\n",
        "\n",
        "머신러닝은 선형대수에 크게 의존, 벡터, 행렬을 이해하는게 중요"
      ]
    },
    {
      "cell_type": "code",
      "metadata": {
        "id": "epJ6SETkaofP",
        "colab_type": "code",
        "colab": {}
      },
      "source": [
        "import tensorflow as tf\n",
        "import sys\n",
        "import numpy as np\n",
        "import matplotlib.pyplot as plt\n",
        "import pandas as pd"
      ],
      "execution_count": 0,
      "outputs": []
    },
    {
      "cell_type": "markdown",
      "metadata": {
        "id": "mkfhrJTrRM6Y",
        "colab_type": "text"
      },
      "source": [
        "### 1-1. Scalars, Vectors, Matrices and Tensor\n",
        "- **Saclars**: 단일숫자\n",
        "- **Vectors**: 숫자들의 배열\n",
        "  - 숫자들은 순서대로 정렬되며, 각 숫자들은 순서대로 인덱스에 의해서 식별 가능\n",
        "  - 벡터는 크기와 방향을 모두 가지는 양을 표현할 수 있는 화살표(화살표의 길의는 크기, 방향은 방향)\n",
        "- **Matrices**: 행렬은 숫자의 2차원 배열, 각 요소는 하나가 아닌 두개의 인덱스로 식별\n",
        "  - 행렬 A의 높이가 m이고 너비가 n이면,  $A\\ in\\ \\mathbb {R}^{m \\times n}$\n",
        "  - 행렬의 요소를 $A_{m,n}$ 로 식별: $m$은 행, $n$은 열\n",
        "\n",
        "![Scalars, Vectors, Matrices and Tensors](https://raw.githubusercontent.com/adhiraiyan/DeepLearningWithTF2.0/master/notebooks/figures/fig0201a.png)\n",
        "\n",
        "- **Tensor**: 가변 축 수를 가진 정규그리드에 배열된 숫자 배열\n",
        "  - $A_{i,j,k}$: 좌표 $(i, j, k)$의 텐서 $A$\n",
        "  - 벡터는 세가지 구성요소로 표현 가능: $(x, y, z)$\n",
        "\n",
        "![Tensors](https://raw.githubusercontent.com/adhiraiyan/DeepLearningWithTF2.0/master/notebooks/figures/fig0201b.PNG)\n",
        "\n",
        "\n",
        "\n"
      ]
    },
    {
      "cell_type": "markdown",
      "metadata": {
        "id": "IAJzDOaBTgJp",
        "colab_type": "text"
      },
      "source": [
        "$$\\color{Orange}{C=A+B\\ where\\ C_{i, j} = A_{i,j} + B_{i,j} \\tag{1}}$$\n",
        "- Tensorflow에서 Tensor\n",
        "  - Rank 0 Tensor: Scalar\n",
        "  - Rank 1 Tensor: Vector\n",
        "  - Rank 2 Tensor: Matrix\n",
        "  - Rank 3 Tensor: 3-Tensor\n",
        "  - Rank n Tensor: n-Tensor"
      ]
    },
    {
      "cell_type": "code",
      "metadata": {
        "id": "d0RfWFwxe9rA",
        "colab_type": "code",
        "outputId": "bc751824-56d9-4f52-d489-412e00d13c26",
        "colab": {
          "base_uri": "https://localhost:8080/",
          "height": 255
        }
      },
      "source": [
        "# ones 3x3 rank 2 tensor\n",
        "rank_2_tensor_A = tf.ones([3,3], name='MatrixA')\n",
        "print(\"3x3 Rank 2 Tensor A: \\n{} \\n\".format(rank_2_tensor_A))\n",
        "\n",
        "# 3x3 rank 2 tensor\n",
        "rank_2_tensor_B = tf.constant([[1,2,3], [4,5,6], [7,8,9]], name='MatrixB', dtype=tf.float32)\n",
        "print(\"3x3 Rank 2 Tensor B: \\n{} \\n\".format(rank_2_tensor_B))\n",
        "\n",
        "# add two tensor\n",
        "rank_2_tensor_C = tf.add(rank_2_tensor_A, rank_2_tensor_B, name='MatrixC')\n",
        "print(\"Rank 2 Tensor C with shape={} and elements: \\n{}\".format(rank_2_tensor_C.shape, rank_2_tensor_C))"
      ],
      "execution_count": 0,
      "outputs": [
        {
          "output_type": "stream",
          "text": [
            "3x3 Rank 2 Tensor A: \n",
            "[[1. 1. 1.]\n",
            " [1. 1. 1.]\n",
            " [1. 1. 1.]] \n",
            "\n",
            "3x3 Rank 2 Tensor B: \n",
            "[[1. 2. 3.]\n",
            " [4. 5. 6.]\n",
            " [7. 8. 9.]] \n",
            "\n",
            "Rank 2 Tensor C with shape=(3, 3) and elements: \n",
            "[[ 2.  3.  4.]\n",
            " [ 5.  6.  7.]\n",
            " [ 8.  9. 10.]]\n"
          ],
          "name": "stdout"
        }
      ]
    },
    {
      "cell_type": "code",
      "metadata": {
        "id": "4t5wjcF0gxO3",
        "colab_type": "code",
        "outputId": "70cf9d1a-28cd-440e-e71b-3efc7e2087f6",
        "colab": {
          "base_uri": "https://localhost:8080/",
          "height": 102
        }
      },
      "source": [
        "two_by_three = tf.ones([2,3])\n",
        "print(\"2x3 Rank 2 Tensor two_by_three: \\n{} \\n\".format(two_by_three))\n",
        "\n",
        "try:\n",
        "  incompatible_tensor = tf.add(two_by_three, rank_2_tensor_B)\n",
        "except:\n",
        "  print(\"Imcompatible shapes to add with two_by_three of shape {}\\\n",
        "  and 3x3 Rank 2 Tensor B of shape{}\".format(two_by_three.shape, rank_2_tensor_B.shape))"
      ],
      "execution_count": 0,
      "outputs": [
        {
          "output_type": "stream",
          "text": [
            "2x3 Rank 2 Tensor two_by_three: \n",
            "[[1. 1. 1.]\n",
            " [1. 1. 1.]] \n",
            "\n",
            "Imcompatible shapes to add with two_by_three of shape (2, 3)  and 3x3 Rank 2 Tensor B of shape(3, 3)\n"
          ],
          "name": "stdout"
        }
      ]
    },
    {
      "cell_type": "markdown",
      "metadata": {
        "id": "-23BIA9HiedS",
        "colab_type": "text"
      },
      "source": [
        "행렬의 각 요소에 대해 해당 작업을 수행화여 핼렬에 스칼라를 추가하거나 행렬에 스칼라를 곱할 수도 있음\n",
        "$$\\color{orange}{D=a \\cdot B+c\\ where\\ D_{i,j}=a \\cdot B_{i,j}+c \\tag{2}}$$"
      ]
    },
    {
      "cell_type": "code",
      "metadata": {
        "id": "sWL4m2gwCfU8",
        "colab_type": "code",
        "outputId": "a5a218b7-c44c-40b2-feac-9c2a0bd6d895",
        "colab": {
          "base_uri": "https://localhost:8080/",
          "height": 289
        }
      },
      "source": [
        "# scalar a,c and Matrix B\n",
        "rank_0_tensor_a = tf.constant(2, name=\"scalar_a\", dtype=tf.float32)\n",
        "rank_2_tensor_B = tf.constant([[1,2,3], [4,5,6], [7,8,9]], name=\"MatrixB\", dtype=tf.float32)\n",
        "rank_0_tensor_c = tf.constant(3, name=\"scalar_c\", dtype=tf.float32)\n",
        "\n",
        "# aB\n",
        "multiply_scalar = tf.multiply(rank_0_tensor_a, rank_2_tensor_B)\n",
        "\n",
        "# aB+c\n",
        "rank_2_tensor_D = tf.add(multiply_scalar, rank_0_tensor_c, name=\"MatrixD\")\n",
        "\n",
        "print(\"\"\"Original Rank 2 Tensor B: \\n{0} \\n\\nScalar a: {1} \\n\\\n",
        "Rank 2 Tensor for aB: \\n{2} \\n\\nScalar c: {3} \\n\\\n",
        "Rank 2 Tensor D = aB+c: \\n{4} )\"\"\".format(rank_2_tensor_B, rank_0_tensor_a, \n",
        "                                          multiply_scalar, rank_0_tensor_c, rank_2_tensor_D))"
      ],
      "execution_count": 0,
      "outputs": [
        {
          "output_type": "stream",
          "text": [
            "Original Rank 2 Tensor B: \n",
            "[[1. 2. 3.]\n",
            " [4. 5. 6.]\n",
            " [7. 8. 9.]] \n",
            "\n",
            "Scalar a: 2.0 \n",
            "Rank 2 Tensor for aB: \n",
            "[[ 2.  4.  6.]\n",
            " [ 8. 10. 12.]\n",
            " [14. 16. 18.]] \n",
            "\n",
            "Scalar c: 3.0 \n",
            "Rank 2 Tensor D = aB+c: \n",
            "[[ 5.  7.  9.]\n",
            " [11. 13. 15.]\n",
            " [17. 19. 21.]] )\n"
          ],
          "name": "stdout"
        }
      ]
    },
    {
      "cell_type": "markdown",
      "metadata": {
        "id": "g1PkE_1uC5W_",
        "colab_type": "text"
      },
      "source": [
        "행렬에서 중요한 것: **Tanspose(전치)**\n",
        "\n",
        "행렬의 Transpose(전치)는 **main diagonal**이라고 하는 대각선을 따라 행과 열을 바꾼 행렬\n",
        "\n",
        "$A$행렬을 $A\\ top$으로 바꾸고 아래와 같이 정의 함\n",
        "$$(A^\\top)_{i,j} = A_{j,i}$$"
      ]
    },
    {
      "cell_type": "code",
      "metadata": {
        "id": "yx-WgtDzQcHO",
        "colab_type": "code",
        "outputId": "99e3ec88-ac40-432c-da5f-40953fd60f4c",
        "colab": {
          "base_uri": "https://localhost:8080/",
          "height": 136
        }
      },
      "source": [
        "# rank 2 Matrix E\n",
        "rank_2_tensor_E = tf.constant([[1,2,3], [4,5,6]])\n",
        "\n",
        "# transpose Matrix E\n",
        "transpose_E = tf.transpose(rank_2_tensor_E, name=\"transposeE\")\n",
        "\n",
        "print(\"\"\"Rank 2 Tensor E of shape: {0} and elements: \\n{1}\\n\\\n",
        "Tanspose of Rank 2 Tensor E of shape: {2} and elements: \\n{3}\"\"\".format(rank_2_tensor_E.shape, rank_2_tensor_E,\n",
        "                                                                        transpose_E.shape, transpose_E))"
      ],
      "execution_count": 0,
      "outputs": [
        {
          "output_type": "stream",
          "text": [
            "Rank 2 Tensor E of shape: (2, 3) and elements: \n",
            "[[1 2 3]\n",
            " [4 5 6]]\n",
            "Tanspose of Rank 2 Tensor E of shape: (3, 2) and elements: \n",
            "[[1 4]\n",
            " [2 5]\n",
            " [3 6]]\n"
          ],
          "name": "stdout"
        }
      ]
    },
    {
      "cell_type": "markdown",
      "metadata": {
        "id": "SNZhb-VfRh7J",
        "colab_type": "text"
      },
      "source": [
        "딥러닝에서는 행렬과 벡터를 추가하여 $C_{i,j} = A_{i,j}+b_j$인 다른 행렬을 생성 할 수 있음\n",
        "\n",
        "즉, 벡터 b가 행렬의 각 행에 추가되며, 여러위치에 b를 암시적으로 복사하는 것을 **broadcasting**이라고 함"
      ]
    },
    {
      "cell_type": "code",
      "metadata": {
        "id": "xID7ARgnUGFt",
        "colab_type": "code",
        "outputId": "81bc397c-aaf1-455c-ced8-280fd3aec8a0",
        "colab": {
          "base_uri": "https://localhost:8080/",
          "height": 238
        }
      },
      "source": [
        "# rank 1 vector b\n",
        "rank_1_tensor_b = tf.constant([[4.], [5.], [6.]])\n",
        "# broadcast, F = A + b\n",
        "rank_2_tensor_F = tf.add(rank_2_tensor_A, rank_1_tensor_b, name=\"broadcastF\")\n",
        "\n",
        "print(\"\"\"Rank 2 tensor A: \\n{0}\\n \\nRank 1 Tensor b: \\n{1}\\\n",
        "\\nRank 2 tensor F = A+b: \\n{2}\"\"\".format(rank_2_tensor_A, rank_1_tensor_b, rank_2_tensor_F))"
      ],
      "execution_count": 0,
      "outputs": [
        {
          "output_type": "stream",
          "text": [
            "Rank 2 tensor A: \n",
            "[[1. 1. 1.]\n",
            " [1. 1. 1.]\n",
            " [1. 1. 1.]]\n",
            " \n",
            "Rank 1 Tensor b: \n",
            "[[4.]\n",
            " [5.]\n",
            " [6.]]\n",
            "Rank 2 tensor F = A+b: \n",
            "[[5. 5. 5.]\n",
            " [6. 6. 6.]\n",
            " [7. 7. 7.]]\n"
          ],
          "name": "stdout"
        }
      ]
    },
    {
      "cell_type": "markdown",
      "metadata": {
        "id": "EnK4-q-RU3bN",
        "colab_type": "text"
      },
      "source": [
        "### 1-2. Multiplying Matrices and Vectors\n",
        "행렬 $A$와 $B$, $A$의 행렬곱을 정의하려면 $A$에 $B$와 같은 수의 열이 있어야 함\n",
        "\n",
        "$A$의 모양이 $m\\times n$이고 $B$의 모양이 $n \\times p$이면 $C$의 모양은 $m \\times p$\n",
        "$$\\color{orange}{C_{i,j}=\\sum_kA_{i,k}B_{k,j} \\tag{3}}$$"
      ]
    },
    {
      "cell_type": "code",
      "metadata": {
        "id": "C0D_m8uBYEbS",
        "colab_type": "code",
        "outputId": "ea8dc695-e9c0-4c0e-d2c1-888545af4e3b",
        "colab": {
          "base_uri": "https://localhost:8080/",
          "height": 255
        }
      },
      "source": [
        "# Matrix A shape: (2,3) B shape: (3,4)\n",
        "mmv_matrix_A = tf.ones([2,3], name=\"matrix_A\")\n",
        "mmv_matrix_B = tf.constant([[1,2,3,4], [1,2,3,4], [1,2,3,4]], name=\"matrix_B\", dtype=tf.float32)\n",
        "\n",
        "# Matrix C: C=AB, C shape: (2,4)\n",
        "matrix_multiply_C = tf.matmul(mmv_matrix_A, mmv_matrix_B, name=\"matrix_multiply_C\")\n",
        "\n",
        "print(\"\"\"Matrix A: shape {0} \\nelements: \\n{1}\\\n",
        "\\n\\nMatrix B: shape {2} \\nelements: \\n{3}\\\n",
        "\\nMatrix C: shape {4} \\nelements: \\n{5}\"\"\".format(mmv_matrix_A.shape, mmv_matrix_A,\n",
        "                                                  mmv_matrix_B.shape, mmv_matrix_B,\n",
        "                                                  matrix_multiply_C.shape, matrix_multiply_C))"
      ],
      "execution_count": 0,
      "outputs": [
        {
          "output_type": "stream",
          "text": [
            "Matrix A: shape (2, 3) \n",
            "elements: \n",
            "[[1. 1. 1.]\n",
            " [1. 1. 1.]]\n",
            "\n",
            "Matrix B: shape (3, 4) \n",
            "elements: \n",
            "[[1. 2. 3. 4.]\n",
            " [1. 2. 3. 4.]\n",
            " [1. 2. 3. 4.]]\n",
            "Matrix C: shape (2, 4) \n",
            "elements: \n",
            "[[ 3.  6.  9. 12.]\n",
            " [ 3.  6.  9. 12.]]\n"
          ],
          "name": "stdout"
        }
      ]
    },
    {
      "cell_type": "markdown",
      "metadata": {
        "id": "UdX3EGpmZNqi",
        "colab_type": "text"
      },
      "source": [
        "개별 요소의 곱을 포함하는 행렬을 얻으려면 **element wise production** 또는 **Handmamard product**를 사용하고 $A \\odot B$으로 표기"
      ]
    },
    {
      "cell_type": "code",
      "metadata": {
        "id": "aO5QPA0ta5ww",
        "colab_type": "code",
        "outputId": "5db71229-9e2c-456c-e149-2e1af55a1067",
        "colab": {
          "base_uri": "https://localhost:8080/",
          "height": 289
        }
      },
      "source": [
        "# Matrix A, B shape (3,3)\n",
        "element_matrix_A = tf.ones([3,3], name=\"element_matrix_A\")\n",
        "element_matrix_B = tf.constant([[1,2,3], [4,5,6], [7,8,9]], name=\"element_matrix_B\", dtype=tf.float32)\n",
        "\n",
        "# element wise product\n",
        "element_wise_C = tf.multiply(element_matrix_A, element_matrix_B, name=\"element_wise_C\")\n",
        "\n",
        "print(\"\"\"Matrix A: shape {0} \\nelements: \\n{1}\\\n",
        "\\n\\nMatrix A: shape {2} \\nelements: \\n{3}\\\n",
        "\\nMatrix C: shape {4} \\nelements: \\n{5}\"\"\".format(element_matrix_A.shape, element_matrix_A,\n",
        "                                                  element_matrix_B.shape, element_matrix_B,\n",
        "                                                  element_wise_C.shape, element_wise_C))"
      ],
      "execution_count": 0,
      "outputs": [
        {
          "output_type": "stream",
          "text": [
            "Matrix A: shape (3, 3) \n",
            "elements: \n",
            "[[1. 1. 1.]\n",
            " [1. 1. 1.]\n",
            " [1. 1. 1.]]\n",
            "\n",
            "Matrix A: shape (3, 3) \n",
            "elements: \n",
            "[[1. 2. 3.]\n",
            " [4. 5. 6.]\n",
            " [7. 8. 9.]]\n",
            "Matrix C: shape (3, 3) \n",
            "elements: \n",
            "[[1. 2. 3.]\n",
            " [4. 5. 6.]\n",
            " [7. 8. 9.]]\n"
          ],
          "name": "stdout"
        }
      ]
    },
    {
      "cell_type": "markdown",
      "metadata": {
        "id": "6EwvEXLUbbE_",
        "colab_type": "text"
      },
      "source": [
        "$A$와 $B$사이의 내적을 계산하기 위해 $A$의 행 $i$와 $B$의 $j$사이의 내적으로 $C_{i,j}를 계산$\n",
        "\n",
        "![Dot Product](https://raw.githubusercontent.com/adhiraiyan/DeepLearningWithTF2.0/master/notebooks/figures/fig0202b.jpg)"
      ]
    },
    {
      "cell_type": "code",
      "metadata": {
        "id": "xrvxI5Vgco6n",
        "colab_type": "code",
        "outputId": "ab5abcb6-fd6d-4c31-e718-35c3643079ef",
        "colab": {
          "base_uri": "https://localhost:8080/",
          "height": 289
        }
      },
      "source": [
        "# Matrix A, B shape: (3,3)\n",
        "dot_matrix_A = tf.ones([3,3], name=\"dot_matrix_A\")\n",
        "dot_matrix_B = tf.constant([[1,2,3], [4,5,6], [7,8,9]], name=\"dot_matrix_B\", dtype=tf.float32)\n",
        "\n",
        "# Dot Product AB\n",
        "dot_product_C = tf.tensordot(dot_matrix_A, dot_matrix_B, axes=1, name=\"dot_product_C\")\n",
        "\n",
        "print(\"\"\"Matrix A: shape {0} \\nelements: \\n{1}\\\n",
        "\\n\\nMatrix B: shape {2} \\nelements: \\n{3}\\n\\\n",
        "Matrix C: shape {4} \\nelements: \\n{5}\"\"\".format(dot_matrix_A.shape, dot_matrix_A,\n",
        "                                                dot_matrix_B.shape, dot_matrix_B,\n",
        "                                                dot_product_C.shape, dot_product_C))"
      ],
      "execution_count": 0,
      "outputs": [
        {
          "output_type": "stream",
          "text": [
            "Matrix A: shape (3, 3) \n",
            "elements: \n",
            "[[1. 1. 1.]\n",
            " [1. 1. 1.]\n",
            " [1. 1. 1.]]\n",
            "\n",
            "Matrix B: shape (3, 3) \n",
            "elements: \n",
            "[[1. 2. 3.]\n",
            " [4. 5. 6.]\n",
            " [7. 8. 9.]]\n",
            "Matrix C: shape (3, 3) \n",
            "elements: \n",
            "[[12. 15. 18.]\n",
            " [12. 15. 18.]\n",
            " [12. 15. 18.]]\n"
          ],
          "name": "stdout"
        }
      ]
    },
    {
      "cell_type": "markdown",
      "metadata": {
        "id": "S9_OGpi1c8W8",
        "colab_type": "text"
      },
      "source": [
        "행렬 곱셈의 일부 속성(분산속성): $$\\color{orange}{A(B+C)=AB+AC\\tag{4}}$$"
      ]
    },
    {
      "cell_type": "code",
      "metadata": {
        "id": "EaPDxI0LfB7g",
        "colab_type": "code",
        "colab": {}
      },
      "source": [
        "matrix_A = tf.constant([[1,2], [3,4]], name=\"matrix_a\")\n",
        "matrix_B = tf.constant([[5,6], [7,8]], name=\"matrix_b\")\n",
        "matrix_C = tf.constant([[9,1], [2,3]], name=\"matrix_c\")"
      ],
      "execution_count": 0,
      "outputs": []
    },
    {
      "cell_type": "code",
      "metadata": {
        "id": "mUUaWCtVfcG2",
        "colab_type": "code",
        "outputId": "b3b55a7d-c8a9-4350-dd4c-e6fa92db7298",
        "colab": {
          "base_uri": "https://localhost:8080/",
          "height": 340
        }
      },
      "source": [
        "print(\"Matrix A: \\n{} \\n\\nMatrix B: \\n{} \\n\\nMatrix C: \\n{}\\n\".format(matrix_A, matrix_B, matrix_C))\n",
        "\n",
        "# AB+AC\n",
        "distributive_RHS = tf.add(tf.matmul(matrix_A, matrix_B), tf.matmul(matrix_A, matrix_C), name=\"RHS\")\n",
        "\n",
        "# A(B+C)\n",
        "distributive_LHS = tf.matmul(matrix_A, (tf.add(matrix_B, matrix_C)), name=\"LHS\")\n",
        "\n",
        "predictor = tf.reduce_all(tf.equal(distributive_RHS, distributive_LHS))\n",
        "\n",
        "def true_print():\n",
        "  print(\"\"\"Distributive property is valid RHS: AB+AC: \\n{} \\n\\nLHS: A(B+C): \\n{}\"\"\".format(distributive_RHS, distributive_LHS))\n",
        "\n",
        "def false_print():\n",
        "  print(\"\"\"You Broke the Distributive Property of Matrix RHS: AB+AC: \\n{}\\\n",
        "  \\n\\nis NOT Equal to LHS: A(B+C): \\n{}\"\"\".format(distributive_RHS, distributive_LHS))\n",
        "\n",
        "tf.cond(predictor, true_print, false_print)"
      ],
      "execution_count": 0,
      "outputs": [
        {
          "output_type": "stream",
          "text": [
            "Matrix A: \n",
            "[[1 2]\n",
            " [3 4]] \n",
            "\n",
            "Matrix B: \n",
            "[[5 6]\n",
            " [7 8]] \n",
            "\n",
            "Matrix C: \n",
            "[[9 1]\n",
            " [2 3]]\n",
            "\n",
            "Distributive property is valid RHS: AB+AC: \n",
            "[[32 29]\n",
            " [78 65]] \n",
            "\n",
            "LHS: A(B+C): \n",
            "[[32 29]\n",
            " [78 65]]\n"
          ],
          "name": "stdout"
        }
      ]
    },
    {
      "cell_type": "markdown",
      "metadata": {
        "id": "TctPeoMTh2J4",
        "colab_type": "text"
      },
      "source": [
        "행렬 곱셈의 일부 속성(연관속성): $$\\color{orange}{A(BC)=(AB)C\\tag{5}}$$"
      ]
    },
    {
      "cell_type": "code",
      "metadata": {
        "id": "17eV6P6si_Jv",
        "colab_type": "code",
        "outputId": "a54654e4-ecaf-4235-a29f-6b6369f2d7b5",
        "colab": {
          "base_uri": "https://localhost:8080/",
          "height": 340
        }
      },
      "source": [
        "print(\"Matrix A: \\n{} \\n\\nMatrix B: \\n{} \\n\\nMatrix C: \\n{}\\n\".format(matrix_A, matrix_B, matrix_C))\n",
        "\n",
        "# (AB)C\n",
        "assosiative_RHS = tf.matmul(tf.matmul(matrix_A, matrix_B), matrix_C)\n",
        "# A(BC)\n",
        "assosiative_LHS = tf.matmul(matrix_A, tf.matmul(matrix_B, matrix_C))\n",
        "\n",
        "predictor = tf.reduce_all(tf.equal(assosiative_RHS, assosiative_LHS))\n",
        "\n",
        "def true_print():\n",
        "  print(\"\"\"Assosiative property is valid RHS: (AB)C: \\n{} \\n\\nLHS: A(BC): \\n{}\"\"\".format(assosiative_RHS, assosiative_LHS))\n",
        "\n",
        "def false_print():\n",
        "  print(\"\"\"You Broke the Assosiative Property of Matrix RHS: (AB)C): \\n{}\\\n",
        "  \\n\\nis NOT Equal to LHS: A(BC): \\n{}\"\"\".format(assosiative_RHS, assosiative_LHS))\n",
        "\n",
        "tf.cond(predictor, true_print, false_print)\n"
      ],
      "execution_count": 0,
      "outputs": [
        {
          "output_type": "stream",
          "text": [
            "Matrix A: \n",
            "[[1 2]\n",
            " [3 4]] \n",
            "\n",
            "Matrix B: \n",
            "[[5 6]\n",
            " [7 8]] \n",
            "\n",
            "Matrix C: \n",
            "[[9 1]\n",
            " [2 3]]\n",
            "\n",
            "Assosiative property is valid RHS: (AB)C: \n",
            "[[215  85]\n",
            " [487 193]] \n",
            "\n",
            "LHS: A(BC): \n",
            "[[215  85]\n",
            " [487 193]]\n"
          ],
          "name": "stdout"
        }
      ]
    },
    {
      "cell_type": "markdown",
      "metadata": {
        "id": "XSXLrPc1kdJ4",
        "colab_type": "text"
      },
      "source": [
        "행렬 곱셈의 일부 속성 $$\\color{orange}{AB \\neq BA\\tag{6}}$$"
      ]
    },
    {
      "cell_type": "code",
      "metadata": {
        "id": "ojpfGJyvli7c",
        "colab_type": "code",
        "outputId": "f30dfc25-4a0f-4da0-e693-c76f7048b14e",
        "colab": {
          "base_uri": "https://localhost:8080/",
          "height": 255
        }
      },
      "source": [
        "print(\"Matrix A: \\n{} \\n\\nMatrix B: \\n{}\".format(matrix_A, matrix_B))\n",
        "\n",
        "# Matrix A times B\n",
        "commutative_RHS = tf.matmul(matrix_A, matrix_B)\n",
        "\n",
        "# Matrix B times A\n",
        "commutative_LHS = tf.matmul(matrix_B, matrix_A)\n",
        "\n",
        "predictor = tf.logical_not(tf.reduce_all(tf.equal(commutative_RHS, commutative_LHS)))\n",
        "\n",
        "def true_print():\n",
        "  print(\"\"\"Matrix Multiplication is not commutative  (AB): \\n{} \\n\\nLHS: (BA): \\n{}\"\"\".format(commutative_RHS, commutative_LHS))\n",
        "\n",
        "def false_print():\n",
        "  print(\"\"\"You made Matrix Multipliccation commutative RHS: (AB): \\n{}\\\n",
        "  \\n\\n LHS: (BA): \\n{}\"\"\".format(commutative_RHS, commutative_LHS))\n",
        "\n",
        "tf.cond(predictor, true_print, false_print)\n"
      ],
      "execution_count": 0,
      "outputs": [
        {
          "output_type": "stream",
          "text": [
            "Matrix A: \n",
            "[[1 2]\n",
            " [3 4]] \n",
            "\n",
            "Matrix B: \n",
            "[[5 6]\n",
            " [7 8]]\n",
            "Matrix Multiplication is not commutative  (AB): \n",
            "[[19 22]\n",
            " [43 50]] \n",
            "\n",
            "LHS: (BA): \n",
            "[[23 34]\n",
            " [31 46]]\n"
          ],
          "name": "stdout"
        }
      ]
    },
    {
      "cell_type": "markdown",
      "metadata": {
        "id": "wqh738hLmVk0",
        "colab_type": "text"
      },
      "source": [
        "행렬 곱셈의 일부 속성 (Transpose): $$\\color{orange}{(AB)^\\top = B^\\top A^\\top\\tag{7}}$$"
      ]
    },
    {
      "cell_type": "code",
      "metadata": {
        "id": "o3Zi1B6KpD-I",
        "colab_type": "code",
        "outputId": "544e70bb-deb7-4f6a-f9d1-52b1c9b00dff",
        "colab": {
          "base_uri": "https://localhost:8080/",
          "height": 272
        }
      },
      "source": [
        "print(\"Matrix A: \\n{} \\n\\nMatrix B: \\n{}\\n\".format(matrix_A, matrix_B))\n",
        "\n",
        "transpose_RHS = tf.transpose(tf.matmul(matrix_A, matrix_B))\n",
        "\n",
        "transpose_LHS = tf.matmul(matrix_B, matrix_A, transpose_a=True, transpose_b=True)\n",
        "\n",
        "predictor = tf.reduce_all(tf.equal(transpose_RHS, transpose_LHS))\n",
        "\n",
        "def true_print():\n",
        "  print(\"\"\"Transpose property is valid RHS: (AB)^T: \\n{}\\\n",
        "  \\n\\nLHS: (B^T A^T): \\n{}\"\"\".format(transpose_RHS, transpose_LHS))\n",
        "\n",
        "def false_print():\n",
        "  print(\"\"\"You Broken the Transpose property of Matrix RHS: (AB)^T: \\n{}\\\n",
        "  \\n\\nLHS: (B^TA^T): \\n{}\"\"\".format(transpose_RHS, transpose_LHS))\n",
        "\n",
        "tf.cond(predictor, true_print, false_print)"
      ],
      "execution_count": 0,
      "outputs": [
        {
          "output_type": "stream",
          "text": [
            "Matrix A: \n",
            "[[1 2]\n",
            " [3 4]] \n",
            "\n",
            "Matrix B: \n",
            "[[5 6]\n",
            " [7 8]]\n",
            "\n",
            "Transpose property is valid RHS: (AB)^T: \n",
            "[[19 43]\n",
            " [22 50]]  \n",
            "\n",
            "LHS: (B^T A^T): \n",
            "[[19 43]\n",
            " [22 50]]\n"
          ],
          "name": "stdout"
        }
      ]
    },
    {
      "cell_type": "markdown",
      "metadata": {
        "id": "vvU9udD1rg5Y",
        "colab_type": "text"
      },
      "source": [
        "### 1-3. Identity and Inverse Matrices\n",
        "선형대수학은 **matrix inversion**이라는 강력한 도구를 제공\n",
        "\n",
        "$A$의 많은 값에 대해 $Ax=b$를 분석적으로 해결 가능\n",
        "\n",
        "행렬 반전 설명을 위해서 먼저 **identity matrix**개념을 정의해야 함\n",
        "\n",
        "항등행렬은 벡터에 해당 행렬을 곱할 때 벡터를 변경하지 않는 행렬\n",
        "$$\\color{orange}{I_n \\in  \\mathbb{R}^{n \\times m} \\text{and}\\ \\forall x \\in \\mathbb{R}^n, I_nx = x \\tag{8}}$$\n",
        "\n",
        "항등행렬의 구조는 주 대각선을 따른은 모든 항목은 1이고 모든 항목은 0 "
      ]
    },
    {
      "cell_type": "code",
      "metadata": {
        "id": "Kiezd49DL4Ki",
        "colab_type": "code",
        "outputId": "6baeaf4b-9749-4404-baae-aeeb222b16dd",
        "colab": {
          "base_uri": "https://localhost:8080/",
          "height": 255
        }
      },
      "source": [
        "# matrix I\n",
        "identity_matrix_I = tf.eye(3,3, dtype=tf.float32, name='IdentityMatrixI')\n",
        "print(\"Identity matrix I: \\n{}\\n\".format(identity_matrix_I))\n",
        "\n",
        "iim_vector_x = tf.constant([[4], [5], [6]], name='Vector_x', dtype=tf.float32)\n",
        "print(\"Vector x: \\n{}\\n\".format(iim_vector_x))\n",
        "\n",
        "iim_matrix_C = tf.matmul(identity_matrix_I, iim_vector_x, name='MatrixC')\n",
        "print(\"Matrix C from Ix: \\n{}\".format(iim_matrix_C))"
      ],
      "execution_count": 0,
      "outputs": [
        {
          "output_type": "stream",
          "text": [
            "Identity matrix I: \n",
            "[[1. 0. 0.]\n",
            " [0. 1. 0.]\n",
            " [0. 0. 1.]]\n",
            "\n",
            "Vector x: \n",
            "[[4.]\n",
            " [5.]\n",
            " [6.]]\n",
            "\n",
            "Matrix C from Ix: \n",
            "[[4.]\n",
            " [5.]\n",
            " [6.]]\n"
          ],
          "name": "stdout"
        }
      ]
    },
    {
      "cell_type": "markdown",
      "metadata": {
        "id": "zE1QPOo9QEeB",
        "colab_type": "text"
      },
      "source": [
        "$A$의 **matrix inverse**는 $A^{-1}$로 표시되며 다음과 같이 정의\n",
        "$$\\color{orange}{A^{-1}A = I_n\\tag{9}}$$\n",
        "\n"
      ]
    },
    {
      "cell_type": "code",
      "metadata": {
        "id": "ZARktLuDRZfh",
        "colab_type": "code",
        "outputId": "6d73efab-cf08-4512-db7e-743f04549b66",
        "colab": {
          "base_uri": "https://localhost:8080/",
          "height": 272
        }
      },
      "source": [
        "iim_matrix_A = tf.constant([[2,3], [2,2]], name='MatrixA', dtype=tf.float32)\n",
        "\n",
        "try:\n",
        "  # inverse\n",
        "  inverse_matrix_A = tf.linalg.inv(iim_matrix_A)\n",
        "\n",
        "  # identity matrix: tf.eye\n",
        "  identity_matrix = tf.eye(2,2, dtype=tf.float32, name=\"identity\")\n",
        "\n",
        "  iim_RHS = identity_matrix\n",
        "  iim_LHS = tf.matmul(inverse_matrix_A, iim_matrix_A, name=\"LHS\")\n",
        "\n",
        "  predictor = tf.reduce_all(tf.equal(iim_RHS, iim_LHS))\n",
        "\n",
        "  def true_print():\n",
        "    print(\"\"\"A^-1 times A equals the Identity Matrix\\\n",
        "    Matrix A: \\n{0} \\n\\nInverse of Matrix A: \\n{1}\\\n",
        "    \\n\\nRHS: I: \\n{2}\\\n",
        "    \\n\\nLHS: A^(-1) A: \\n{3}\"\"\".format(iim_matrix_A,\n",
        "                                       inverse_matrix_A,\n",
        "                                       iim_RHS,\n",
        "                                       iim_LHS))\n",
        "  def false_print():\n",
        "    print(\"Condition Failed\")\n",
        "  \n",
        "  tf.cond(predictor, true_print, false_print)\n",
        "\n",
        "except:\n",
        "  print(\"\"\"A^-1 doesnt exist\\\n",
        "  Matrix A: \\n{} \\n\\nInverse of Matrix A: \\n{}\\\n",
        "  \\n\\nRHS: I: \\n{}\\\n",
        "  \\nLHS: (A^(-1) A): \\n{}\"\"\".format(iim_matrix_A, inverse_matrix_A, iim_RHS, iim_LHS))"
      ],
      "execution_count": 0,
      "outputs": [
        {
          "output_type": "stream",
          "text": [
            "A^-1 times A equals the Identity Matrix    Matrix A: \n",
            "[[2. 3.]\n",
            " [2. 2.]] \n",
            "\n",
            "Inverse of Matrix A: \n",
            "[[-1.   1.5]\n",
            " [ 1.  -1. ]]    \n",
            "\n",
            "RHS: I: \n",
            "[[1. 0.]\n",
            " [0. 1.]]    \n",
            "\n",
            "LHS: A^(-1) A: \n",
            "[[1. 0.]\n",
            " [0. 1.]]\n"
          ],
          "name": "stdout"
        }
      ]
    },
    {
      "cell_type": "markdown",
      "metadata": {
        "id": "Tlo8leChTn9V",
        "colab_type": "text"
      },
      "source": [
        "$Ax=b$방정식은 다음과 같이 풀 수 있음\n",
        "$$\\color{orange}{A^{-1}Ax=A^{-1}b \\\\\n",
        "I_nx=A^{-1}b \\\\\n",
        "x=A^{-1}b\\tag{10}}$$\n",
        "\n",
        "$A^{-1}는 다음과 같이 찾을수 있음$\n",
        "\n",
        "![Matrix Inverse](https://raw.githubusercontent.com/adhiraiyan/DeepLearningWithTF2.0/master/notebooks/figures/fig0203a.PNG)\n"
      ]
    },
    {
      "cell_type": "code",
      "metadata": {
        "id": "5FJ7V-eUb866",
        "colab_type": "code",
        "outputId": "245c8fd8-70aa-45b3-effb-0b103118a6ad",
        "colab": {
          "base_uri": "https://localhost:8080/",
          "height": 221
        }
      },
      "source": [
        "sys_matrix_A = tf.constant([[2,3], [4,9]], dtype=tf.float32)\n",
        "sys_vector_B = tf.constant([[6], [15]], dtype=tf.float32)\n",
        "\n",
        "print(\"Matrix A: \\n{} \\n\\nVector B: \\n{}\\n\".format(sys_matrix_A, sys_vector_B))\n",
        "\n",
        "# x = A^(-1)b\n",
        "sys_x = tf.matmul(tf.linalg.inv(sys_matrix_A), sys_vector_B)\n",
        "print(\"Vector x is: \\n{} \\nWhere x = {} and y = {}\".format(sys_x, sys_x[0], sys_x[1]))"
      ],
      "execution_count": 0,
      "outputs": [
        {
          "output_type": "stream",
          "text": [
            "Matrix A: \n",
            "[[2. 3.]\n",
            " [4. 9.]] \n",
            "\n",
            "Vector B: \n",
            "[[ 6.]\n",
            " [15.]]\n",
            "\n",
            "Vector x is: \n",
            "[[1.5      ]\n",
            " [1.0000001]] \n",
            "Where x = [1.5] and y = [1.0000001]\n"
          ],
          "name": "stdout"
        }
      ]
    }
  ]
}